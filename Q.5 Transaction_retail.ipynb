{
  "cells": [
    {
      "cell_type": "markdown",
      "id": "7605a82b",
      "metadata": {
        "id": "7605a82b"
      },
      "source": [
        "# Transaction_retail.csv\n",
        "Problem Statement: - \n",
        "A retail store in India, has its transaction data, and it would like to know the buying pattern of the \n",
        "consumers in its locality, you have been assigned this task to provide the manager with rules \n",
        "on how the placement of products needs to be there in shelves so that it can improve the buying\n",
        "patterns of consumes and increase customer footfall. \n"
      ]
    },
    {
      "cell_type": "code",
      "execution_count": 1,
      "id": "d62e6c5d",
      "metadata": {
        "colab": {
          "base_uri": "https://localhost:8080/"
        },
        "id": "d62e6c5d",
        "outputId": "66255c70-6416-44cd-e8c8-a7f95b4b3f1f"
      },
      "outputs": [
        {
          "output_type": "stream",
          "name": "stdout",
          "text": [
            "Requirement already satisfied: mlxtend in /usr/local/lib/python3.7/dist-packages (0.14.0)\n",
            "Requirement already satisfied: numpy>=1.10.4 in /usr/local/lib/python3.7/dist-packages (from mlxtend) (1.19.5)\n",
            "Requirement already satisfied: matplotlib>=1.5.1 in /usr/local/lib/python3.7/dist-packages (from mlxtend) (3.2.2)\n",
            "Requirement already satisfied: setuptools in /usr/local/lib/python3.7/dist-packages (from mlxtend) (57.4.0)\n",
            "Requirement already satisfied: scikit-learn>=0.18 in /usr/local/lib/python3.7/dist-packages (from mlxtend) (1.0.2)\n",
            "Requirement already satisfied: scipy>=0.17 in /usr/local/lib/python3.7/dist-packages (from mlxtend) (1.4.1)\n",
            "Requirement already satisfied: pandas>=0.17.1 in /usr/local/lib/python3.7/dist-packages (from mlxtend) (1.3.5)\n",
            "Requirement already satisfied: pyparsing!=2.0.4,!=2.1.2,!=2.1.6,>=2.0.1 in /usr/local/lib/python3.7/dist-packages (from matplotlib>=1.5.1->mlxtend) (3.0.7)\n",
            "Requirement already satisfied: cycler>=0.10 in /usr/local/lib/python3.7/dist-packages (from matplotlib>=1.5.1->mlxtend) (0.11.0)\n",
            "Requirement already satisfied: kiwisolver>=1.0.1 in /usr/local/lib/python3.7/dist-packages (from matplotlib>=1.5.1->mlxtend) (1.3.2)\n",
            "Requirement already satisfied: python-dateutil>=2.1 in /usr/local/lib/python3.7/dist-packages (from matplotlib>=1.5.1->mlxtend) (2.8.2)\n",
            "Requirement already satisfied: pytz>=2017.3 in /usr/local/lib/python3.7/dist-packages (from pandas>=0.17.1->mlxtend) (2018.9)\n",
            "Requirement already satisfied: six>=1.5 in /usr/local/lib/python3.7/dist-packages (from python-dateutil>=2.1->matplotlib>=1.5.1->mlxtend) (1.15.0)\n",
            "Requirement already satisfied: threadpoolctl>=2.0.0 in /usr/local/lib/python3.7/dist-packages (from scikit-learn>=0.18->mlxtend) (3.1.0)\n",
            "Requirement already satisfied: joblib>=0.11 in /usr/local/lib/python3.7/dist-packages (from scikit-learn>=0.18->mlxtend) (1.1.0)\n"
          ]
        }
      ],
      "source": [
        "!pip install mlxtend\n",
        "\n",
        "import pandas as pd\n",
        "from mlxtend.frequent_patterns import apriori, association_rules"
      ]
    },
    {
      "cell_type": "code",
      "execution_count": 2,
      "id": "356952ef",
      "metadata": {
        "id": "356952ef"
      },
      "outputs": [],
      "source": [
        "transactions_retail1 = []\n",
        "with open(\"transactions_retail1.csv\") as f:\n",
        "    transactions_retail1 = f.read()\n"
      ]
    },
    {
      "cell_type": "code",
      "execution_count": 3,
      "id": "41c83cf1",
      "metadata": {
        "id": "41c83cf1"
      },
      "outputs": [],
      "source": [
        "# splitting the data into separate transactions using separator as \"\\n\"\n",
        "transactions_retail1 = transactions_retail1.split(\"\\n\")\n"
      ]
    },
    {
      "cell_type": "code",
      "execution_count": 4,
      "id": "0f7a7f53",
      "metadata": {
        "id": "0f7a7f53"
      },
      "outputs": [],
      "source": [
        "\n",
        "transactions_retail1_list = []\n",
        "for i in transactions_retail1:\n",
        "    transactions_retail1_list.append(i.split(\",\"))\n"
      ]
    },
    {
      "cell_type": "code",
      "execution_count": 5,
      "id": "b4a1a68c",
      "metadata": {
        "id": "b4a1a68c"
      },
      "outputs": [],
      "source": [
        "all_transactions_retail1_list = [i for item in transactions_retail1_list for i in item]\n",
        "\n",
        "from collections import Counter # ,OrderedDict\n",
        "\n",
        "item_frequencies = Counter(all_transactions_retail1_list)\n"
      ]
    },
    {
      "cell_type": "code",
      "execution_count": 6,
      "id": "cb4f5393",
      "metadata": {
        "id": "cb4f5393"
      },
      "outputs": [],
      "source": [
        "# after sorting\n",
        "item_frequencies = sorted(item_frequencies.items(), key = lambda x:x[1])\n"
      ]
    },
    {
      "cell_type": "code",
      "execution_count": 7,
      "id": "705434ea",
      "metadata": {
        "id": "705434ea"
      },
      "outputs": [],
      "source": [
        "# Storing frequencies and items in separate variables \n",
        "frequencies = list(reversed([i[1] for i in item_frequencies]))\n",
        "items = list(reversed([i[0] for i in item_frequencies]))"
      ]
    },
    {
      "cell_type": "code",
      "execution_count": 8,
      "id": "d5d6ff58",
      "metadata": {
        "colab": {
          "base_uri": "https://localhost:8080/",
          "height": 334
        },
        "id": "d5d6ff58",
        "outputId": "443e6eab-82f6-4ab9-e2c6-7bbd8b82a5d7"
      },
      "outputs": [
        {
          "output_type": "stream",
          "name": "stderr",
          "text": [
            "/usr/local/lib/python3.7/dist-packages/ipykernel_launcher.py:4: MatplotlibDeprecationWarning: Using a string of single character colors as a color sequence is deprecated. Use an explicit list instead.\n",
            "  after removing the cwd from sys.path.\n"
          ]
        },
        {
          "output_type": "display_data",
          "data": {
            "image/png": "[encoded data removed]",
            "text/plain": [
              "<Figure size 432x288 with 1 Axes>"
            ]
          },
          "metadata": {
            "needs_background": "light"
          }
        }
      ],
      "source": [
        "# barplot of top 10 \n",
        "import matplotlib.pyplot as plt\n",
        "\n",
        "plt.bar(height = frequencies[0:11], x = list(range(0, 11)), color = 'rgbkymc')\n",
        "plt.xticks(list(range(0, 11), ), items[0:11])\n",
        "plt.xlabel(\"items\")\n",
        "plt.ylabel(\"Count\")\n",
        "plt.show()\n"
      ]
    },
    {
      "cell_type": "code",
      "execution_count": 9,
      "id": "1b3a079d",
      "metadata": {
        "id": "1b3a079d"
      },
      "outputs": [],
      "source": [
        "# Creating Data Frame for the transactions data\n",
        "transactions_retail1_series = pd.DataFrame(pd.Series(transactions_retail1_list))\n",
        "transactions_retail1_series = transactions_retail1_series.iloc[:557041, :] # removing the last empty transaction\n"
      ]
    },
    {
      "cell_type": "code",
      "execution_count": 10,
      "id": "1715eed4",
      "metadata": {
        "id": "1715eed4"
      },
      "outputs": [],
      "source": [
        "transactions_retail1_series.columns = [\"transactions\"]\n",
        "\n"
      ]
    },
    {
      "cell_type": "code",
      "execution_count": 11,
      "id": "5c8ca5b9",
      "metadata": {
        "id": "5c8ca5b9"
      },
      "outputs": [],
      "source": [
        "# creating a dummy columns for the each item in each transactions ... Using column names as item name\n",
        "X =transactions_retail1_series['transactions'].str.join(sep = '*').str.get_dummies(sep = '*')\n",
        "\n",
        "frequent_itemsets = apriori(X, min_support = 0.0075, max_len = 4, use_colnames = True)"
      ]
    },
    {
      "cell_type": "code",
      "execution_count": 12,
      "id": "185d4ecd",
      "metadata": {
        "colab": {
          "base_uri": "https://localhost:8080/",
          "height": 382
        },
        "id": "185d4ecd",
        "outputId": "762e2410-9a34-403d-8b70-89da76c2c71b"
      },
      "outputs": [
        {
          "output_type": "stream",
          "name": "stderr",
          "text": [
            "/usr/local/lib/python3.7/dist-packages/ipykernel_launcher.py:4: MatplotlibDeprecationWarning: Using a string of single character colors as a color sequence is deprecated. Use an explicit list instead.\n",
            "  after removing the cwd from sys.path.\n"
          ]
        },
        {
          "output_type": "display_data",
          "data": {
            "image/png": "[encoded data removed]",
            "text/plain": [
              "<Figure size 432x288 with 1 Axes>"
            ]
          },
          "metadata": {
            "needs_background": "light"
          }
        }
      ],
      "source": [
        "# Most Frequent item sets based on support \n",
        "frequent_itemsets.sort_values('support', ascending = False, inplace = True)\n",
        "\n",
        "plt.bar(x = list(range(0, 11)), height = frequent_itemsets.support[0:11], color ='rgmyk')\n",
        "plt.xticks(list(range(0, 11)), frequent_itemsets.itemsets[0:11], rotation=20)\n",
        "plt.xlabel('item-sets')\n",
        "plt.ylabel('support')\n",
        "plt.show()"
      ]
    },
    {
      "cell_type": "code",
      "execution_count": 13,
      "id": "f6b3c3fb",
      "metadata": {
        "colab": {
          "base_uri": "https://localhost:8080/",
          "height": 363
        },
        "id": "f6b3c3fb",
        "outputId": "7b6ba220-8812-4183-d31a-9a589d023f68"
      },
      "outputs": [
        {
          "output_type": "execute_result",
          "data": {
            "text/html": [
              "\n",
              "  <div id=\"df-4547c04d-7dc1-4dc8-95bd-c5e2a29af732\">\n",
              "    <div class=\"colab-df-container\">\n",
              "      <div>\n",
              "<style scoped>\n",
              "    .dataframe tbody tr th:only-of-type {\n",
              "        vertical-align: middle;\n",
              "    }\n",
              "\n",
              "    .dataframe tbody tr th {\n",
              "        vertical-align: top;\n",
              "    }\n",
              "\n",
              "    .dataframe thead th {\n",
              "        text-align: right;\n",
              "    }\n",
              "</style>\n",
              "<table border=\"1\" class=\"dataframe\">\n",
              "  <thead>\n",
              "    <tr style=\"text-align: right;\">\n",
              "      <th></th>\n",
              "      <th>antecedents</th>\n",
              "      <th>consequents</th>\n",
              "      <th>antecedent support</th>\n",
              "      <th>consequent support</th>\n",
              "      <th>support</th>\n",
              "      <th>confidence</th>\n",
              "      <th>lift</th>\n",
              "      <th>leverage</th>\n",
              "      <th>conviction</th>\n",
              "    </tr>\n",
              "  </thead>\n",
              "  <tbody>\n",
              "    <tr>\n",
              "      <th>472</th>\n",
              "      <td>('OF', 'CASES')</td>\n",
              "      <td>('PACK', 'CAKE')</td>\n",
              "      <td>0.008167</td>\n",
              "      <td>0.008167</td>\n",
              "      <td>0.008167</td>\n",
              "      <td>1.000000</td>\n",
              "      <td>122.444848</td>\n",
              "      <td>0.008100</td>\n",
              "      <td>inf</td>\n",
              "    </tr>\n",
              "    <tr>\n",
              "      <th>473</th>\n",
              "      <td>('PACK', 'CAKE')</td>\n",
              "      <td>('OF', 'CASES')</td>\n",
              "      <td>0.008167</td>\n",
              "      <td>0.008167</td>\n",
              "      <td>0.008167</td>\n",
              "      <td>1.000000</td>\n",
              "      <td>122.444848</td>\n",
              "      <td>0.008100</td>\n",
              "      <td>inf</td>\n",
              "    </tr>\n",
              "    <tr>\n",
              "      <th>410</th>\n",
              "      <td>('BAKELIKE')</td>\n",
              "      <td>('ALARM')</td>\n",
              "      <td>0.008810</td>\n",
              "      <td>0.009196</td>\n",
              "      <td>0.008810</td>\n",
              "      <td>1.000000</td>\n",
              "      <td>108.737352</td>\n",
              "      <td>0.008729</td>\n",
              "      <td>inf</td>\n",
              "    </tr>\n",
              "    <tr>\n",
              "      <th>422</th>\n",
              "      <td>('BAKELIKE')</td>\n",
              "      <td>('CLOCK', 'ALARM')</td>\n",
              "      <td>0.008810</td>\n",
              "      <td>0.009196</td>\n",
              "      <td>0.008810</td>\n",
              "      <td>1.000000</td>\n",
              "      <td>108.737352</td>\n",
              "      <td>0.008729</td>\n",
              "      <td>inf</td>\n",
              "    </tr>\n",
              "    <tr>\n",
              "      <th>411</th>\n",
              "      <td>('ALARM')</td>\n",
              "      <td>('BAKELIKE')</td>\n",
              "      <td>0.009196</td>\n",
              "      <td>0.008810</td>\n",
              "      <td>0.008810</td>\n",
              "      <td>0.958019</td>\n",
              "      <td>108.737352</td>\n",
              "      <td>0.008729</td>\n",
              "      <td>23.610645</td>\n",
              "    </tr>\n",
              "    <tr>\n",
              "      <th>413</th>\n",
              "      <td>(NA, 'ALARM')</td>\n",
              "      <td>('BAKELIKE')</td>\n",
              "      <td>0.009196</td>\n",
              "      <td>0.008810</td>\n",
              "      <td>0.008810</td>\n",
              "      <td>0.958019</td>\n",
              "      <td>108.737352</td>\n",
              "      <td>0.008729</td>\n",
              "      <td>23.610645</td>\n",
              "    </tr>\n",
              "    <tr>\n",
              "      <th>414</th>\n",
              "      <td>('BAKELIKE', NA)</td>\n",
              "      <td>('ALARM')</td>\n",
              "      <td>0.008810</td>\n",
              "      <td>0.009196</td>\n",
              "      <td>0.008810</td>\n",
              "      <td>1.000000</td>\n",
              "      <td>108.737352</td>\n",
              "      <td>0.008729</td>\n",
              "      <td>inf</td>\n",
              "    </tr>\n",
              "    <tr>\n",
              "      <th>415</th>\n",
              "      <td>('ALARM')</td>\n",
              "      <td>('BAKELIKE', NA)</td>\n",
              "      <td>0.009196</td>\n",
              "      <td>0.008810</td>\n",
              "      <td>0.008810</td>\n",
              "      <td>0.958019</td>\n",
              "      <td>108.737352</td>\n",
              "      <td>0.008729</td>\n",
              "      <td>23.610645</td>\n",
              "    </tr>\n",
              "    <tr>\n",
              "      <th>416</th>\n",
              "      <td>('BAKELIKE')</td>\n",
              "      <td>(NA, 'ALARM')</td>\n",
              "      <td>0.008810</td>\n",
              "      <td>0.009196</td>\n",
              "      <td>0.008810</td>\n",
              "      <td>1.000000</td>\n",
              "      <td>108.737352</td>\n",
              "      <td>0.008729</td>\n",
              "      <td>inf</td>\n",
              "    </tr>\n",
              "    <tr>\n",
              "      <th>418</th>\n",
              "      <td>('CLOCK', 'BAKELIKE')</td>\n",
              "      <td>('ALARM')</td>\n",
              "      <td>0.008810</td>\n",
              "      <td>0.009196</td>\n",
              "      <td>0.008810</td>\n",
              "      <td>1.000000</td>\n",
              "      <td>108.737352</td>\n",
              "      <td>0.008729</td>\n",
              "      <td>inf</td>\n",
              "    </tr>\n",
              "  </tbody>\n",
              "</table>\n",
              "</div>\n",
              "      <button class=\"colab-df-convert\" onclick=\"convertToInteractive('df-4547c04d-7dc1-4dc8-95bd-c5e2a29af732')\"\n",
              "              title=\"Convert this dataframe to an interactive table.\"\n",
              "              style=\"display:none;\">\n",
              "        \n",
              "  <svg xmlns=\"http://www.w3.org/2000/svg\" height=\"24px\"viewBox=\"0 0 24 24\"\n",
              "       width=\"24px\">\n",
              "    <path d=\"M0 0h24v24H0V0z\" fill=\"none\"/>\n",
              "    <path d=\"M18.56 5.44l.94 2.06.94-2.06 2.06-.94-2.06-.94-.94-2.06-.94 2.06-2.06.94zm-11 1L8.5 8.5l.94-2.06 2.06-.94-2.06-.94L8.5 2.5l-.94 2.06-2.06.94zm10 10l.94 2.06.94-2.06 2.06-.94-2.06-.94-.94-2.06-.94 2.06-2.06.94z\"/><path d=\"M17.41 7.96l-1.37-1.37c-.4-.4-.92-.59-1.43-.59-.52 0-1.04.2-1.43.59L10.3 9.45l-7.72 7.72c-.78.78-.78 2.05 0 2.83L4 21.41c.39.39.9.59 1.41.59.51 0 1.02-.2 1.41-.59l7.78-7.78 2.81-2.81c.8-.78.8-2.07 0-2.86zM5.41 20L4 18.59l7.72-7.72 1.47 1.35L5.41 20z\"/>\n",
              "  </svg>\n",
              "      </button>\n",
              "      \n",
              "  <style>\n",
              "    .colab-df-container {\n",
              "      display:flex;\n",
              "      flex-wrap:wrap;\n",
              "      gap: 12px;\n",
              "    }\n",
              "\n",
              "    .colab-df-convert {\n",
              "      background-color: #E8F0FE;\n",
              "      border: none;\n",
              "      border-radius: 50%;\n",
              "      cursor: pointer;\n",
              "      display: none;\n",
              "      fill: #1967D2;\n",
              "      height: 32px;\n",
              "      padding: 0 0 0 0;\n",
              "      width: 32px;\n",
              "    }\n",
              "\n",
              "    .colab-df-convert:hover {\n",
              "      background-color: #E2EBFA;\n",
              "      box-shadow: 0px 1px 2px rgba(60, 64, 67, 0.3), 0px 1px 3px 1px rgba(60, 64, 67, 0.15);\n",
              "      fill: #174EA6;\n",
              "    }\n",
              "\n",
              "    [theme=dark] .colab-df-convert {\n",
              "      background-color: #3B4455;\n",
              "      fill: #D2E3FC;\n",
              "    }\n",
              "\n",
              "    [theme=dark] .colab-df-convert:hover {\n",
              "      background-color: #434B5C;\n",
              "      box-shadow: 0px 1px 3px 1px rgba(0, 0, 0, 0.15);\n",
              "      filter: drop-shadow(0px 1px 2px rgba(0, 0, 0, 0.3));\n",
              "      fill: #FFFFFF;\n",
              "    }\n",
              "  </style>\n",
              "\n",
              "      <script>\n",
              "        const buttonEl =\n",
              "          document.querySelector('#df-4547c04d-7dc1-4dc8-95bd-c5e2a29af732 button.colab-df-convert');\n",
              "        buttonEl.style.display =\n",
              "          google.colab.kernel.accessAllowed ? 'block' : 'none';\n",
              "\n",
              "        async function convertToInteractive(key) {\n",
              "          const element = document.querySelector('#df-4547c04d-7dc1-4dc8-95bd-c5e2a29af732');\n",
              "          const dataTable =\n",
              "            await google.colab.kernel.invokeFunction('convertToInteractive',\n",
              "                                                     [key], {});\n",
              "          if (!dataTable) return;\n",
              "\n",
              "          const docLinkHtml = 'Like what you see? Visit the ' +\n",
              "            '<a target=\"_blank\" href=https://colab.research.google.com/notebooks/data_table.ipynb>data table notebook</a>'\n",
              "            + ' to learn more about interactive tables.';\n",
              "          element.innerHTML = '';\n",
              "          dataTable['output_type'] = 'display_data';\n",
              "          await google.colab.output.renderOutput(dataTable, element);\n",
              "          const docLink = document.createElement('div');\n",
              "          docLink.innerHTML = docLinkHtml;\n",
              "          element.appendChild(docLink);\n",
              "        }\n",
              "      </script>\n",
              "    </div>\n",
              "  </div>\n",
              "  "
            ],
            "text/plain": [
              "               antecedents         consequents  ...  leverage  conviction\n",
              "472        ('OF', 'CASES')    ('PACK', 'CAKE')  ...  0.008100         inf\n",
              "473       ('PACK', 'CAKE')     ('OF', 'CASES')  ...  0.008100         inf\n",
              "410           ('BAKELIKE')           ('ALARM')  ...  0.008729         inf\n",
              "422           ('BAKELIKE')  ('CLOCK', 'ALARM')  ...  0.008729         inf\n",
              "411              ('ALARM')        ('BAKELIKE')  ...  0.008729   23.610645\n",
              "413          (NA, 'ALARM')        ('BAKELIKE')  ...  0.008729   23.610645\n",
              "414       ('BAKELIKE', NA)           ('ALARM')  ...  0.008729         inf\n",
              "415              ('ALARM')    ('BAKELIKE', NA)  ...  0.008729   23.610645\n",
              "416           ('BAKELIKE')       (NA, 'ALARM')  ...  0.008729         inf\n",
              "418  ('CLOCK', 'BAKELIKE')           ('ALARM')  ...  0.008729         inf\n",
              "\n",
              "[10 rows x 9 columns]"
            ]
          },
          "metadata": {},
          "execution_count": 13
        }
      ],
      "source": [
        "rules = association_rules(frequent_itemsets, metric = \"lift\", min_threshold = 1)\n",
        "rules.head(20)\n",
        "rules.sort_values('lift', ascending = False).head(10)\n"
      ]
    },
    {
      "cell_type": "code",
      "execution_count": 14,
      "id": "f0f44fc9",
      "metadata": {
        "id": "f0f44fc9"
      },
      "outputs": [],
      "source": [
        "################################# Extra part ###################################\n",
        "def to_list(i):\n",
        "    return (sorted(list(i)))\n"
      ]
    },
    {
      "cell_type": "code",
      "execution_count": 15,
      "id": "860e58c1",
      "metadata": {
        "id": "860e58c1"
      },
      "outputs": [],
      "source": [
        "\n",
        "ma_X = rules.antecedents.apply(to_list) + rules.consequents.apply(to_list)\n",
        "\n",
        "ma_X = ma_X.apply(sorted)\n",
        "\n",
        "rules_sets = list(ma_X)\n",
        "\n",
        "unique_rules_sets = [list(m) for m in set(tuple(i) for i in rules_sets)]\n",
        "\n",
        "index_rules = []\n",
        "\n",
        "for i in unique_rules_sets:\n",
        "    index_rules.append(rules_sets.index(i))\n"
      ]
    },
    {
      "cell_type": "code",
      "execution_count": 16,
      "id": "4d3e94ee",
      "metadata": {
        "id": "4d3e94ee"
      },
      "outputs": [],
      "source": [
        "# getting rules without any redudancy \n",
        "rules_no_redudancy = rules.iloc[index_rules, :]\n"
      ]
    },
    {
      "cell_type": "code",
      "execution_count": 17,
      "id": "e1ee0a27",
      "metadata": {
        "colab": {
          "base_uri": "https://localhost:8080/",
          "height": 363
        },
        "id": "e1ee0a27",
        "outputId": "63acf43b-c574-48bd-8034-3c281433f550"
      },
      "outputs": [
        {
          "output_type": "execute_result",
          "data": {
            "text/html": [
              "\n",
              "  <div id=\"df-ac074582-9eae-4265-8aac-435058062fa8\">\n",
              "    <div class=\"colab-df-container\">\n",
              "      <div>\n",
              "<style scoped>\n",
              "    .dataframe tbody tr th:only-of-type {\n",
              "        vertical-align: middle;\n",
              "    }\n",
              "\n",
              "    .dataframe tbody tr th {\n",
              "        vertical-align: top;\n",
              "    }\n",
              "\n",
              "    .dataframe thead th {\n",
              "        text-align: right;\n",
              "    }\n",
              "</style>\n",
              "<table border=\"1\" class=\"dataframe\">\n",
              "  <thead>\n",
              "    <tr style=\"text-align: right;\">\n",
              "      <th></th>\n",
              "      <th>antecedents</th>\n",
              "      <th>consequents</th>\n",
              "      <th>antecedent support</th>\n",
              "      <th>consequent support</th>\n",
              "      <th>support</th>\n",
              "      <th>confidence</th>\n",
              "      <th>lift</th>\n",
              "      <th>leverage</th>\n",
              "      <th>conviction</th>\n",
              "    </tr>\n",
              "  </thead>\n",
              "  <tbody>\n",
              "    <tr>\n",
              "      <th>418</th>\n",
              "      <td>('CLOCK', 'BAKELIKE')</td>\n",
              "      <td>('ALARM')</td>\n",
              "      <td>0.008810</td>\n",
              "      <td>0.009196</td>\n",
              "      <td>0.008810</td>\n",
              "      <td>1.000000</td>\n",
              "      <td>108.737352</td>\n",
              "      <td>0.008729</td>\n",
              "      <td>inf</td>\n",
              "    </tr>\n",
              "    <tr>\n",
              "      <th>410</th>\n",
              "      <td>('BAKELIKE')</td>\n",
              "      <td>('ALARM')</td>\n",
              "      <td>0.008810</td>\n",
              "      <td>0.009196</td>\n",
              "      <td>0.008810</td>\n",
              "      <td>1.000000</td>\n",
              "      <td>108.737352</td>\n",
              "      <td>0.008729</td>\n",
              "      <td>inf</td>\n",
              "    </tr>\n",
              "    <tr>\n",
              "      <th>514</th>\n",
              "      <td>('KNOB')</td>\n",
              "      <td>('DRAWER')</td>\n",
              "      <td>0.008068</td>\n",
              "      <td>0.010058</td>\n",
              "      <td>0.008068</td>\n",
              "      <td>1.000000</td>\n",
              "      <td>99.426181</td>\n",
              "      <td>0.007987</td>\n",
              "      <td>inf</td>\n",
              "    </tr>\n",
              "    <tr>\n",
              "      <th>586</th>\n",
              "      <td>('UNION')</td>\n",
              "      <td>('JACK')</td>\n",
              "      <td>0.012038</td>\n",
              "      <td>0.007573</td>\n",
              "      <td>0.007573</td>\n",
              "      <td>0.629112</td>\n",
              "      <td>83.073191</td>\n",
              "      <td>0.007482</td>\n",
              "      <td>2.675812</td>\n",
              "    </tr>\n",
              "    <tr>\n",
              "      <th>396</th>\n",
              "      <td>('GIRL')</td>\n",
              "      <td>('DOLLY')</td>\n",
              "      <td>0.010058</td>\n",
              "      <td>0.010939</td>\n",
              "      <td>0.008929</td>\n",
              "      <td>0.887795</td>\n",
              "      <td>81.160557</td>\n",
              "      <td>0.008819</td>\n",
              "      <td>8.814791</td>\n",
              "    </tr>\n",
              "    <tr>\n",
              "      <th>392</th>\n",
              "      <td>('CLOCK')</td>\n",
              "      <td>('ALARM')</td>\n",
              "      <td>0.013037</td>\n",
              "      <td>0.009196</td>\n",
              "      <td>0.009196</td>\n",
              "      <td>0.705391</td>\n",
              "      <td>76.702354</td>\n",
              "      <td>0.009077</td>\n",
              "      <td>3.363114</td>\n",
              "    </tr>\n",
              "    <tr>\n",
              "      <th>406</th>\n",
              "      <td>('CLOCK')</td>\n",
              "      <td>('BAKELIKE')</td>\n",
              "      <td>0.013037</td>\n",
              "      <td>0.008810</td>\n",
              "      <td>0.008810</td>\n",
              "      <td>0.675778</td>\n",
              "      <td>76.702354</td>\n",
              "      <td>0.008696</td>\n",
              "      <td>3.057135</td>\n",
              "    </tr>\n",
              "    <tr>\n",
              "      <th>532</th>\n",
              "      <td>('HAND')</td>\n",
              "      <td>('WARMER')</td>\n",
              "      <td>0.010226</td>\n",
              "      <td>0.011008</td>\n",
              "      <td>0.007969</td>\n",
              "      <td>0.779284</td>\n",
              "      <td>70.792172</td>\n",
              "      <td>0.007856</td>\n",
              "      <td>4.480828</td>\n",
              "    </tr>\n",
              "    <tr>\n",
              "      <th>542</th>\n",
              "      <td>('60', 'CAKE')</td>\n",
              "      <td>('CASES')</td>\n",
              "      <td>0.007959</td>\n",
              "      <td>0.016888</td>\n",
              "      <td>0.007959</td>\n",
              "      <td>1.000000</td>\n",
              "      <td>59.212778</td>\n",
              "      <td>0.007825</td>\n",
              "      <td>inf</td>\n",
              "    </tr>\n",
              "    <tr>\n",
              "      <th>548</th>\n",
              "      <td>('60')</td>\n",
              "      <td>('CASES')</td>\n",
              "      <td>0.007959</td>\n",
              "      <td>0.016888</td>\n",
              "      <td>0.007959</td>\n",
              "      <td>1.000000</td>\n",
              "      <td>59.212778</td>\n",
              "      <td>0.007825</td>\n",
              "      <td>inf</td>\n",
              "    </tr>\n",
              "  </tbody>\n",
              "</table>\n",
              "</div>\n",
              "      <button class=\"colab-df-convert\" onclick=\"convertToInteractive('df-ac074582-9eae-4265-8aac-435058062fa8')\"\n",
              "              title=\"Convert this dataframe to an interactive table.\"\n",
              "              style=\"display:none;\">\n",
              "        \n",
              "  <svg xmlns=\"http://www.w3.org/2000/svg\" height=\"24px\"viewBox=\"0 0 24 24\"\n",
              "       width=\"24px\">\n",
              "    <path d=\"M0 0h24v24H0V0z\" fill=\"none\"/>\n",
              "    <path d=\"M18.56 5.44l.94 2.06.94-2.06 2.06-.94-2.06-.94-.94-2.06-.94 2.06-2.06.94zm-11 1L8.5 8.5l.94-2.06 2.06-.94-2.06-.94L8.5 2.5l-.94 2.06-2.06.94zm10 10l.94 2.06.94-2.06 2.06-.94-2.06-.94-.94-2.06-.94 2.06-2.06.94z\"/><path d=\"M17.41 7.96l-1.37-1.37c-.4-.4-.92-.59-1.43-.59-.52 0-1.04.2-1.43.59L10.3 9.45l-7.72 7.72c-.78.78-.78 2.05 0 2.83L4 21.41c.39.39.9.59 1.41.59.51 0 1.02-.2 1.41-.59l7.78-7.78 2.81-2.81c.8-.78.8-2.07 0-2.86zM5.41 20L4 18.59l7.72-7.72 1.47 1.35L5.41 20z\"/>\n",
              "  </svg>\n",
              "      </button>\n",
              "      \n",
              "  <style>\n",
              "    .colab-df-container {\n",
              "      display:flex;\n",
              "      flex-wrap:wrap;\n",
              "      gap: 12px;\n",
              "    }\n",
              "\n",
              "    .colab-df-convert {\n",
              "      background-color: #E8F0FE;\n",
              "      border: none;\n",
              "      border-radius: 50%;\n",
              "      cursor: pointer;\n",
              "      display: none;\n",
              "      fill: #1967D2;\n",
              "      height: 32px;\n",
              "      padding: 0 0 0 0;\n",
              "      width: 32px;\n",
              "    }\n",
              "\n",
              "    .colab-df-convert:hover {\n",
              "      background-color: #E2EBFA;\n",
              "      box-shadow: 0px 1px 2px rgba(60, 64, 67, 0.3), 0px 1px 3px 1px rgba(60, 64, 67, 0.15);\n",
              "      fill: #174EA6;\n",
              "    }\n",
              "\n",
              "    [theme=dark] .colab-df-convert {\n",
              "      background-color: #3B4455;\n",
              "      fill: #D2E3FC;\n",
              "    }\n",
              "\n",
              "    [theme=dark] .colab-df-convert:hover {\n",
              "      background-color: #434B5C;\n",
              "      box-shadow: 0px 1px 3px 1px rgba(0, 0, 0, 0.15);\n",
              "      filter: drop-shadow(0px 1px 2px rgba(0, 0, 0, 0.3));\n",
              "      fill: #FFFFFF;\n",
              "    }\n",
              "  </style>\n",
              "\n",
              "      <script>\n",
              "        const buttonEl =\n",
              "          document.querySelector('#df-ac074582-9eae-4265-8aac-435058062fa8 button.colab-df-convert');\n",
              "        buttonEl.style.display =\n",
              "          google.colab.kernel.accessAllowed ? 'block' : 'none';\n",
              "\n",
              "        async function convertToInteractive(key) {\n",
              "          const element = document.querySelector('#df-ac074582-9eae-4265-8aac-435058062fa8');\n",
              "          const dataTable =\n",
              "            await google.colab.kernel.invokeFunction('convertToInteractive',\n",
              "                                                     [key], {});\n",
              "          if (!dataTable) return;\n",
              "\n",
              "          const docLinkHtml = 'Like what you see? Visit the ' +\n",
              "            '<a target=\"_blank\" href=https://colab.research.google.com/notebooks/data_table.ipynb>data table notebook</a>'\n",
              "            + ' to learn more about interactive tables.';\n",
              "          element.innerHTML = '';\n",
              "          dataTable['output_type'] = 'display_data';\n",
              "          await google.colab.output.renderOutput(dataTable, element);\n",
              "          const docLink = document.createElement('div');\n",
              "          docLink.innerHTML = docLinkHtml;\n",
              "          element.appendChild(docLink);\n",
              "        }\n",
              "      </script>\n",
              "    </div>\n",
              "  </div>\n",
              "  "
            ],
            "text/plain": [
              "               antecedents   consequents  ...  leverage  conviction\n",
              "418  ('CLOCK', 'BAKELIKE')     ('ALARM')  ...  0.008729         inf\n",
              "410           ('BAKELIKE')     ('ALARM')  ...  0.008729         inf\n",
              "514               ('KNOB')    ('DRAWER')  ...  0.007987         inf\n",
              "586              ('UNION')      ('JACK')  ...  0.007482    2.675812\n",
              "396               ('GIRL')     ('DOLLY')  ...  0.008819    8.814791\n",
              "392              ('CLOCK')     ('ALARM')  ...  0.009077    3.363114\n",
              "406              ('CLOCK')  ('BAKELIKE')  ...  0.008696    3.057135\n",
              "532               ('HAND')    ('WARMER')  ...  0.007856    4.480828\n",
              "542         ('60', 'CAKE')     ('CASES')  ...  0.007825         inf\n",
              "548                 ('60')     ('CASES')  ...  0.007825         inf\n",
              "\n",
              "[10 rows x 9 columns]"
            ]
          },
          "metadata": {},
          "execution_count": 17
        }
      ],
      "source": [
        "\n",
        "# Sorting them with respect to list and getting top 10 rules \n",
        "rules_no_redudancy.sort_values('lift', ascending = False).head(10)\n"
      ]
    },
    {
      "cell_type": "code",
      "execution_count": 18,
      "id": "cb53fa33",
      "metadata": {
        "id": "cb53fa33"
      },
      "outputs": [],
      "source": [
        "rules_no_redudancy.to_csv(\"transactional_retailArules.csv\",encoding=\"utf 8\")\n"
      ]
    },
    {
      "cell_type": "code",
      "execution_count": 19,
      "id": "8368f1ac",
      "metadata": {
        "colab": {
          "base_uri": "https://localhost:8080/",
          "height": 35
        },
        "id": "8368f1ac",
        "outputId": "e541cbf4-c360-48c7-a04f-5d9a7c3fbb4a"
      },
      "outputs": [
        {
          "output_type": "execute_result",
          "data": {
            "application/vnd.google.colaboratory.intrinsic+json": {
              "type": "string"
            },
            "text/plain": [
              "'/content'"
            ]
          },
          "metadata": {},
          "execution_count": 19
        }
      ],
      "source": [
        "import os\n",
        "os.getcwd()\n"
      ]
    },
    {
      "cell_type": "code",
      "execution_count": null,
      "id": "494d68bf",
      "metadata": {
        "id": "494d68bf"
      },
      "outputs": [],
      "source": [
        ""
      ]
    }
  ],
  "metadata": {
    "kernelspec": {
      "display_name": "Python 3",
      "language": "python",
      "name": "python3"
    },
    "language_info": {
      "codemirror_mode": {
        "name": "ipython",
        "version": 3
      },
      "file_extension": ".py",
      "mimetype": "text/x-python",
      "name": "python",
      "nbconvert_exporter": "python",
      "pygments_lexer": "ipython3",
      "version": "3.8.8"
    },
    "colab": {
      "name": "Transaction_retail.ipynb",
      "provenance": []
    }
  },
  "nbformat": 4,
  "nbformat_minor": 5
}